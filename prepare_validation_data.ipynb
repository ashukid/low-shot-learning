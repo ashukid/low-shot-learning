{
 "cells": [
  {
   "cell_type": "markdown",
   "metadata": {},
   "source": [
    "#### make validation set"
   ]
  },
  {
   "cell_type": "code",
   "execution_count": 1,
   "metadata": {},
   "outputs": [],
   "source": [
    "import os\n",
    "import cv2\n",
    "import numpy as np\n",
    "import time\n",
    "import json"
   ]
  },
  {
   "cell_type": "code",
   "execution_count": 2,
   "metadata": {},
   "outputs": [],
   "source": [
    "with open('base_classes.json') as f:\n",
    "    base_classes=json.load(f)\n",
    "    \n",
    "data='LouisVuitton/'\n",
    "folders=os.listdir(data)\n",
    "folders.sort()"
   ]
  },
  {
   "cell_type": "code",
   "execution_count": null,
   "metadata": {},
   "outputs": [],
   "source": [
    "for f in folders:\n",
    "    path=os.path.join(data,f)\n",
    "    if(os.path.isdir(path)):\n",
    "        os.makedirs(os.path.join('LouisVuitton-test',f))"
   ]
  },
  {
   "cell_type": "code",
   "execution_count": null,
   "metadata": {},
   "outputs": [],
   "source": [
    "idx=0\n",
    "for f in folders:\n",
    "    path = os.path.join(data,f)\n",
    "    if(idx in base_classes):\n",
    "        \n",
    "        count=0\n",
    "        images=os.listdir(path)\n",
    "        for im in images:\n",
    "            impath = os.path.join(path,im)\n",
    "            newpath=os.path.join('LouisVuitton-test',f+'/'+im)\n",
    "            os.rename(impath,newpath)\n",
    "            count+=1\n",
    "            \n",
    "            if(count ==20):\n",
    "                break\n",
    "    idx+=1"
   ]
  }
 ],
 "metadata": {
  "kernelspec": {
   "display_name": "Python 3",
   "language": "python",
   "name": "python3"
  },
  "language_info": {
   "codemirror_mode": {
    "name": "ipython",
    "version": 3
   },
   "file_extension": ".py",
   "mimetype": "text/x-python",
   "name": "python",
   "nbconvert_exporter": "python",
   "pygments_lexer": "ipython3",
   "version": "3.5.2"
  }
 },
 "nbformat": 4,
 "nbformat_minor": 2
}
