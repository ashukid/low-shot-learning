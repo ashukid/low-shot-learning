{
 "cells": [
  {
   "cell_type": "markdown",
   "metadata": {},
   "source": [
    "#### removing nonetype images"
   ]
  },
  {
   "cell_type": "code",
   "execution_count": 40,
   "metadata": {},
   "outputs": [],
   "source": [
    "import os\n",
    "import cv2\n",
    "ext=('jpg','jpeg','png')"
   ]
  },
  {
   "cell_type": "code",
   "execution_count": 35,
   "metadata": {},
   "outputs": [],
   "source": [
    "data='LouisVuitton/'\n",
    "folders=os.listdir(data)"
   ]
  },
  {
   "cell_type": "code",
   "execution_count": 80,
   "metadata": {},
   "outputs": [],
   "source": [
    "bad_folders=[]\n",
    "for f in folders:\n",
    "    \n",
    "    path = os.path.join(data,f)\n",
    "    if(os.path.isdir(path)):\n",
    "        \n",
    "        images=os.listdir(path)\n",
    "        \n",
    "        for im in images:\n",
    "            impath = os.path.join(path,im)\n",
    "            x=cv2.imread(impath)\n",
    "            if(type(x) is 'NoneType'):\n",
    "                print(impath)\n",
    "                os.remove(impath)"
   ]
  },
  {
   "cell_type": "code",
   "execution_count": 73,
   "metadata": {},
   "outputs": [],
   "source": [
    "import cv2\n",
    "x=cv2.imread('./LouisVuitton/LOUISVUITTONDamierEbeneNeoNeverfullPM/PROD_louis-vuitton-damier-ebene-neo-neverfull-pm-003k.jpg')"
   ]
  },
  {
   "cell_type": "code",
   "execution_count": null,
   "metadata": {},
   "outputs": [],
   "source": []
  },
  {
   "cell_type": "code",
   "execution_count": 91,
   "metadata": {},
   "outputs": [
    {
     "name": "stdout",
     "output_type": "stream",
     "text": [
      "ls: cannot access './LouisVuitton/LOUISVUITTONEmpreinteArtsyMMNoirBlack/PROD_louis-vuitton-empreinte-artsy-mm-noir-black-00AD.jpg': No such file or directory\r\n"
     ]
    }
   ],
   "source": [
    "ls ./LouisVuitton/LOUISVUITTONEmpreinteArtsyMMNoirBlack/PROD_louis-vuitton-empreinte-artsy-mm-noir-black-00AD.jpg"
   ]
  },
  {
   "cell_type": "markdown",
   "metadata": {},
   "source": [
    "#### make validation set"
   ]
  },
  {
   "cell_type": "code",
   "execution_count": null,
   "metadata": {},
   "outputs": [],
   "source": [
    "# make validation set\n",
    "\n",
    "with open('base_classes.json') as f:\n",
    "    base_classes=json.load(f)\n",
    "    \n",
    "data='LouisVuitton/'\n",
    "folders=os.listdir(data)\n",
    "folders.sort()"
   ]
  },
  {
   "cell_type": "code",
   "execution_count": null,
   "metadata": {},
   "outputs": [],
   "source": [
    "idx=0\n",
    "for f in folders:\n",
    "    path = os.path.join(data,f)\n",
    "    if(idx in base_classes):\n",
    "        \n",
    "        count=0\n",
    "        images=os.listdir(path)\n",
    "        for im im images:\n",
    "            \n",
    "            impath = os.path.join(path,im)\n",
    "            os.rename(impath,os.path.join('LouisVuitton-test',f+'/im'))\n",
    "            count+=1\n",
    "            \n",
    "            if(count ==20):\n",
    "                break\n"
   ]
  }
 ],
 "metadata": {
  "kernelspec": {
   "display_name": "Python 3",
   "language": "python",
   "name": "python3"
  },
  "language_info": {
   "codemirror_mode": {
    "name": "ipython",
    "version": 3
   },
   "file_extension": ".py",
   "mimetype": "text/x-python",
   "name": "python",
   "nbconvert_exporter": "python",
   "pygments_lexer": "ipython3",
   "version": "3.5.2"
  }
 },
 "nbformat": 4,
 "nbformat_minor": 2
}
